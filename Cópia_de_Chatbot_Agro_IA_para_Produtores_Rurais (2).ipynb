{
  "nbformat": 4,
  "nbformat_minor": 0,
  "metadata": {
    "colab": {
      "provenance": []
    },
    "kernelspec": {
      "name": "python3",
      "display_name": "Python 3"
    },
    "language_info": {
      "name": "python"
    }
  },
  "cells": [
    {
      "cell_type": "code",
      "execution_count": null,
      "metadata": {
        "id": "DHRRPGVC39lJ"
      },
      "outputs": [],
      "source": [
        "!pip install google-generativeai"
      ]
    },
    {
      "cell_type": "code",
      "source": [
        "import google.generativeai as genai\n",
        "from google.colab import userdata\n",
        "\n",
        "\n",
        "API_KEY = userdata.get('GOOGLE_API_KEY')\n",
        "genai.configure(api_key=API_KEY)"
      ],
      "metadata": {
        "id": "9sppivHh7Wfq"
      },
      "execution_count": null,
      "outputs": []
    },
    {
      "cell_type": "code",
      "source": [
        "model = genai.GenerativeModel('gemini-2.0-flash')"
      ],
      "metadata": {
        "id": "u5o7RCNn_Jbh"
      },
      "execution_count": null,
      "outputs": []
    },
    {
      "cell_type": "code",
      "source": [
        "system_instruction = \"\"\"Você é um assistente virtual de suporte rápido para pequenos produtores rurais.\n",
        "Sua função é responder de forma clara, objetiva e prática a dúvidas comuns sobre:\n",
        "- Plantio (geral)\n",
        "- Pragas e doenças (identificação básica e controle inicial)\n",
        "- Adubação (conceitos básicos)\n",
        "- Coleta de amostras (solo, folha - princípios gerais)\n",
        "- Interpretação básica de laudos simples (pH, N, P, K).\n",
        "Baseie suas respostas em conhecimentos agronômicos gerais e recomende sempre buscar um profissional agrônomo para orientações, pois suas respostas são apenas para consulta.\n",
        "Recomendações agronômicas e de manejo devem ser feitas por um profissional.\n",
        "Se não souber a resposta ou a pergunta for muito complexa/específica, diga que a dúvida necessita de avaliação profissional no local.\n",
        "Seja encorajador# Iniciar a conversa com a instrução do sistema como a primeira mensagem\n",
        "chat = model.start_chat(history=[\n",
        "    {\n",
        "        \"role\": \"user\", # A instrução é \"dada\" pelo usuário\n",
        "        \"parts\": [system_instruction]\n",
        "    },\n",
        "    {\n",
        "        \"role\": \"model\", # O modelo \"responde\" (ou confirma implicitamente) a instrução\n",
        "        \"parts\": [\"Ok, compreendi. Estou pronto para ajudar.\"] # Uma resposta inicial opcional\n",
        "    }\n",
        "])\n",
        "\n",
        "print(\"Chat iniciado com as instruções.\") # Confirmação visual\n",
        " e use linguagem acess# --- Código anterior (Configuração, API Key, Modelo, Início do Chat) ---\n",
        "# (Mantenha o código que você já executou com sucesso acima)\n",
        "\n",
        "# --- Código para a Interação do Chatbot ---\n",
        "\n",
        "print(\"\\nOlá! Sou seu assistente rápido para o campo. Pergunte algo ou digite 'sair' para encerrar.\")\n",
        "print(\"--------------------------------------------------------------\")\n",
        "\n",
        "while True:\n",
        "    # Pede a pergunta do usuário\n",
        "    user_input = input(\"Você: \")\n",
        "\n",
        "    # Verifica se o usuário quer sair\n",
        "    if user_input.lower() == 'sair':\n",
        "        print(\"Obrigado por usar o assistente! Até a próxima.\")\n",
        "        break # Sai do loop\n",
        "\n",
        "    # Envia a mensagem do usuário para o modelo e obtém a resposta\n",
        "    try:\n",
        "        # Adiciona a mensagem do usuário ao histórico e obtém a resposta\n",
        "        response = chat.send_message(user_input)\n",
        "\n",
        "        # Exibe a resposta do assistente\n",
        "        print(f\"Assistente: {response.text}\")\n",
        "\n",
        "    except Exception as e:\n",
        "        # Em caso de erro (ex: problema na API, conteúdo bloqueado)\n",
        "        print(f\"Assistente: Desculpe, não consegui processar sua pergunta no momento. ({e})\")\n",
        "        print(\"Por favor, tente perguntar de outra forma ou mais tarde.\")\n",
        "\n",
        "    print(\"--------------------------------------------------------------\") # Separador para próxima interação\n",
        "ível.\"\"\""
      ],
      "metadata": {
        "id": "e1IaArhL_QEK"
      },
      "execution_count": null,
      "outputs": []
    },
    {
      "cell_type": "code",
      "source": [
        "!pip install -q --upgrade gradio google-generativeai"
      ],
      "metadata": {
        "id": "HPopRbt_ab6Q"
      },
      "execution_count": null,
      "outputs": []
    },
    {
      "cell_type": "code",
      "source": [
        "# Célula 1: Instalação/Upgrade das bibliotecas\n",
        "# Usar --upgrade para garantir que estamos pegando versões mais recentes se já estiverem instaladas.\n",
        "!pip install -q --upgrade gradio google-generativeai\n",
        "\n",
        "# Célula 2: Código do Chatbot com Gradio para Colab (Corrigido)\n",
        "\n",
        "import google.generativeai as genai\n",
        "from google.colab import userdata # Para buscar a API Key no Colab\n",
        "import gradio as gr\n",
        "\n",
        "# --- Configuração da API Key no Colab ---\n",
        "try:\n",
        "    API_KEY = userdata.get('GOOGLE_API_KEY')\n",
        "    if not API_KEY:\n",
        "        print(\"Chave API do Google não encontrada no userdata do Colab.\")\n",
        "        print(\"Por favor, adicione sua GOOGLE_API_KEY aos Secrets do Colab (ícone de chave à esquerda).\")\n",
        "        raise ValueError(\"GOOGLE_API_KEY não configurada.\")\n",
        "    genai.configure(api_key=API_KEY)\n",
        "except Exception as e:\n",
        "    print(f\"Erro ao configurar a API Key: {e}\")\n",
        "    raise\n",
        "\n",
        "# --- Configuração do Modelo Generativo ---\n",
        "try:\n",
        "    model = genai.GenerativeModel('gemini-2.0-flash')\n",
        "except Exception as e:\n",
        "    print(f\"Erro ao carregar o modelo GenerativeModel: {e}\")\n",
        "    raise\n",
        "\n",
        "# --- Instrução do Sistema e Início do Chat ---\n",
        "system_instruction = \"\"\"Você é um assistente virtual de suporte rápido para pequenos produtores rurais.\n",
        "Sua função é responder de forma clara, objetiva e prática a dúvidas comuns sobre:\n",
        "- Plantio (geral)\n",
        "- Pragas e doenças (identificação básica e controle inicial)\n",
        "- Adubação (conceitos básicos)\n",
        "- Coleta de amostras (solo, folha - princípios gerais)\n",
        "- Interpretação básica de laudos simples (pH, N, P, K).\n",
        "Baseie suas respostas em conhecimentos agronômicos gerais e recomende sempre buscar um profissional agrônomo para orientações, pois suas respostas são apenas para consulta.\n",
        "Recomendações agronômicas e de manejo devem ser feitas por um profissional.\n",
        "Se não souber a resposta ou a pergunta for muito complexa/específica, diga que a dúvida necessita de avaliação profissional no local.\n",
        "Seja encorajador e use linguagem acessível.\"\"\"\n",
        "\n",
        "try:\n",
        "    chat_global = model.start_chat(history=[\n",
        "        {\"role\": \"user\", \"parts\": [system_instruction]},\n",
        "        {\"role\": \"model\", \"parts\": [\"Ok, compreendi. Estou pronto para ajudar os produtores rurais.\"]}\n",
        "    ])\n",
        "except Exception as e:\n",
        "    print(f\"Erro ao iniciar o chat com o modelo: {e}\")\n",
        "    raise\n",
        "\n",
        "# --- Função de Resposta para o Gradio ---\n",
        "def chatbot_response(message, history_gradio):\n",
        "    \"\"\"\n",
        "    Função que o Gradio chamará para obter a resposta do chatbot.\n",
        "    Com type='messages', history_gradio será uma lista de dicionários:\n",
        "    [{'role': 'user', 'content': 'Olá'}, {'role': 'assistant', 'content': 'Oi!'}]\n",
        "    Nossa implementação atual usa 'chat_global' que já mantém o histórico com o Gemini,\n",
        "    então não precisamos processar 'history_gradio' diretamente para enviar ao Gemini aqui.\n",
        "    \"\"\"\n",
        "    try:\n",
        "        response = chat_global.send_message(message)\n",
        "        return response.text\n",
        "    except Exception as e:\n",
        "        print(f\"Erro ao enviar mensagem para o Gemini: {e}\")\n",
        "        error_details = str(e)\n",
        "        if hasattr(e, 'message'):\n",
        "            error_details = e.message\n",
        "        elif hasattr(e, 'args') and e.args:\n",
        "             error_details = str(e.args[0])\n",
        "\n",
        "        if \"block_reason\" in error_details.lower():\n",
        "            return \"Sua pergunta não pôde ser processada devido às políticas de segurança de conteúdo. Por favor, reformule sua pergunta.\"\n",
        "        elif \"API key not valid\" in error_details:\n",
        "             return \"A chave da API não é válida. Verifique suas credenciais.\"\n",
        "        return f\"Desculpe, ocorreu um erro ({error_details}). Por favor, tente novamente ou reformule sua pergunta.\"\n",
        "\n",
        "# --- Criação da Interface com Gradio (Corrigido) ---\n",
        "iface = gr.ChatInterface(\n",
        "    fn=chatbot_response,\n",
        "    title=\"Cultiva Pro (Chatbot para o Agro)\",\n",
        "    description=\"Assistente virtual para pequenos produtores rurais. Faça suas perguntas sobre plantio, pragas, adubação e mais.\",\n",
        "    chatbot=gr.Chatbot(height=500), # O UserWarning sobre 'type' no Chatbot é indireto; ChatInterface gerencia isso.\n",
        "    textbox=gr.Textbox(placeholder=\"Digite sua pergunta aqui...\", container=False, scale=7),\n",
        "    examples=[\n",
        "        [\"Como faço para preparar o solo para o plantio de milho?\"],\n",
        "        [\"Quais são os sinais de que minhas plantas estão com deficiência de nitrogênio?\"],\n",
        "        [\"Como posso controlar pulgões de forma natural?\"],\n",
        "        [\"Qual o pH ideal do solo para café?\"]\n",
        "    ],\n",
        "    theme=\"soft\",\n",
        "    # Argumentos removidos devido ao TypeError: retry_btn, undo_btn, clear_btn\n",
        "    # Se você atualizar o Gradio para uma versão mais recente e o erro persistir,\n",
        "    # esses nomes de parâmetros podem ter mudado ou sido removidos.\n",
        "    # A interface ainda terá os botões com os textos padrão.\n",
        "    type='messages' # Adicionado para seguir a recomendação do UserWarning\n",
        ")\n",
        "\n",
        "# --- Lançar a Interface no Colab ---\n",
        "print(\"Iniciando a interface do Chatbot Agro IA com Gradio no Colab...\")\n",
        "print(\"Aguarde o link público (terminado em gradio.live) aparecer abaixo.\")\n",
        "iface.launch(share=True, debug=True)"
      ],
      "metadata": {
        "id": "D97EWsBSdy0j"
      },
      "execution_count": null,
      "outputs": []
    }
  ]
}